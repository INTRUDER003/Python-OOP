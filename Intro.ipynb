{
  "nbformat": 4,
  "nbformat_minor": 0,
  "metadata": {
    "colab": {
      "provenance": [],
      "toc_visible": true,
      "authorship_tag": "ABX9TyMt128IoBjlmzc7RCx8/GZ9",
      "include_colab_link": true
    },
    "kernelspec": {
      "name": "python3",
      "display_name": "Python 3"
    },
    "language_info": {
      "name": "python"
    }
  },
  "cells": [
    {
      "cell_type": "markdown",
      "metadata": {
        "id": "view-in-github",
        "colab_type": "text"
      },
      "source": [
        "<a href=\"https://colab.research.google.com/github/ratamranjith/OOP-s-Python/blob/main/Intro.ipynb\" target=\"_parent\"><img src=\"https://colab.research.google.com/assets/colab-badge.svg\" alt=\"Open In Colab\"/></a>"
      ]
    },
    {
      "cell_type": "code",
      "execution_count": 1,
      "metadata": {
        "id": "fVUNQlNxOJZM",
        "colab": {
          "base_uri": "https://localhost:8080/"
        },
        "outputId": "5dcf8028-471e-495c-bc26-cf7085266cfd"
      },
      "outputs": [
        {
          "output_type": "stream",
          "name": "stdout",
          "text": [
            "Hello PPL\n"
          ]
        }
      ],
      "source": [
        "print(\"Hello PPL\")"
      ]
    },
    {
      "cell_type": "code",
      "source": [
        "totalRev = 100000\n",
        "tax = 0.19\n",
        "income = totalRev * tax\n",
        "print(income)"
      ],
      "metadata": {
        "colab": {
          "base_uri": "https://localhost:8080/"
        },
        "id": "SA4b1WXUPfxh",
        "outputId": "490d054d-3677-453b-a2b3-680bf9235f9c"
      },
      "execution_count": 3,
      "outputs": [
        {
          "output_type": "stream",
          "name": "stdout",
          "text": [
            "19000.0\n"
          ]
        }
      ]
    },
    {
      "cell_type": "code",
      "source": [
        "import numpy as np\n",
        "np.__version__"
      ],
      "metadata": {
        "colab": {
          "base_uri": "https://localhost:8080/",
          "height": 35
        },
        "id": "Zy2DNf-5QUZl",
        "outputId": "dc63465e-8324-432a-dbfa-b4b6c4e7612f"
      },
      "execution_count": 4,
      "outputs": [
        {
          "output_type": "execute_result",
          "data": {
            "text/plain": [
              "'1.22.4'"
            ],
            "application/vnd.google.colaboratory.intrinsic+json": {
              "type": "string"
            }
          },
          "metadata": {},
          "execution_count": 4
        }
      ]
    },
    {
      "cell_type": "code",
      "source": [],
      "metadata": {
        "id": "FssW5YJaQy0g"
      },
      "execution_count": null,
      "outputs": []
    },
    {
      "cell_type": "markdown",
      "source": [
        "Exmples of *Markdown*\n",
        "Exmples of **Markdown**\n",
        "\n",
        "> Python\n",
        ">>> Code\n",
        "\n",
        "An Ordered List:\n",
        "1. One\n",
        "2. Two\n",
        "3. *Three*"
      ],
      "metadata": {
        "id": "NTM1Dz3aQzyb"
      }
    },
    {
      "cell_type": "markdown",
      "source": [
        "$A = \\begin{pmatrix}\n",
        "a_{1, 1} & a_{1, 2} \\\\\n",
        "a_{2, 1} & a_{2, 2}\n",
        "\\end{pmatrix}$\n"
      ],
      "metadata": {
        "id": "SGmgXrZaSdS-"
      }
    }
  ]
}