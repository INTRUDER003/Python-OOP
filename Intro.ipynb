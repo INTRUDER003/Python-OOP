{
  "nbformat": 4,
  "nbformat_minor": 0,
  "metadata": {
    "colab": {
      "provenance": [],
      "toc_visible": true,
      "authorship_tag": "ABX9TyPHiWS6c4oBUpcnr1OZvhO0",
      "include_colab_link": true
    },
    "kernelspec": {
      "name": "python3",
      "display_name": "Python 3"
    },
    "language_info": {
      "name": "python"
    }
  },
  "cells": [
    {
      "cell_type": "markdown",
      "metadata": {
        "id": "view-in-github",
        "colab_type": "text"
      },
      "source": [
        "<a href=\"https://colab.research.google.com/github/ratamranjith/OOP-s-Python/blob/main/Intro.ipynb\" target=\"_parent\"><img src=\"https://colab.research.google.com/assets/colab-badge.svg\" alt=\"Open In Colab\"/></a>"
      ]
    },
    {
      "cell_type": "code",
      "execution_count": 1,
      "metadata": {
        "id": "fVUNQlNxOJZM",
        "colab": {
          "base_uri": "https://localhost:8080/"
        },
        "outputId": "5dcf8028-471e-495c-bc26-cf7085266cfd"
      },
      "outputs": [
        {
          "output_type": "stream",
          "name": "stdout",
          "text": [
            "Hello PPL\n"
          ]
        }
      ],
      "source": [
        "print(\"Hello PPL\")"
      ]
    },
    {
      "cell_type": "code",
      "source": [
        "totalRev = 100000\n",
        "tax = 0.19\n",
        "income = totalRev * tax\n",
        "print(income)"
      ],
      "metadata": {
        "colab": {
          "base_uri": "https://localhost:8080/"
        },
        "id": "SA4b1WXUPfxh",
        "outputId": "490d054d-3677-453b-a2b3-680bf9235f9c"
      },
      "execution_count": 3,
      "outputs": [
        {
          "output_type": "stream",
          "name": "stdout",
          "text": [
            "19000.0\n"
          ]
        }
      ]
    }
  ]
}